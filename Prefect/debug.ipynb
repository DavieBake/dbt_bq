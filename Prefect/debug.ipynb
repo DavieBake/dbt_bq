{
 "cells": [
  {
   "cell_type": "code",
   "execution_count": 6,
   "metadata": {},
   "outputs": [
    {
     "name": "stderr",
     "output_type": "stream",
     "text": [
      "c:\\Users\\davie\\anaconda3\\lib\\site-packages\\prefect\\flows.py:206: UserWarning: A flow named 'my-flow' and defined at 'C:\\Users\\davie\\AppData\\Local\\Temp/ipykernel_25196/1638590193.py:6' conflicts with another flow. Consider specifying a unique `name` parameter in the flow definition:\n",
      "\n",
      " `@flow(name='my_unique_name', ...)`\n",
      "  warnings.warn(\n"
     ]
    },
    {
     "data": {
      "text/html": [
       "<pre style=\"white-space:pre;overflow-x:auto;line-height:normal;font-family:Menlo,'DejaVu Sans Mono',consolas,'Courier New',monospace\">14:00:25.808 | <span style=\"color: #008080; text-decoration-color: #008080\">INFO</span>    | prefect.engine - Created flow run<span style=\"color: #800080; text-decoration-color: #800080\"> 'great-auk'</span> for flow<span style=\"color: #800080; text-decoration-color: #800080; font-weight: bold\"> 'my-flow'</span>\n",
       "</pre>\n"
      ],
      "text/plain": [
       "14:00:25.808 | \u001b[36mINFO\u001b[0m    | prefect.engine - Created flow run\u001b[35m 'great-auk'\u001b[0m for flow\u001b[1;35m 'my-flow'\u001b[0m\n"
      ]
     },
     "metadata": {},
     "output_type": "display_data"
    },
    {
     "name": "stdout",
     "output_type": "stream",
     "text": [
      "What is your favorite number?\n"
     ]
    },
    {
     "data": {
      "text/html": [
       "<pre style=\"white-space:pre;overflow-x:auto;line-height:normal;font-family:Menlo,'DejaVu Sans Mono',consolas,'Courier New',monospace\">14:00:25.984 | <span style=\"color: #008080; text-decoration-color: #008080\">INFO</span>    | Flow run<span style=\"color: #800080; text-decoration-color: #800080\"> 'great-auk'</span> - Finished in state <span style=\"color: #008000; text-decoration-color: #008000\">Completed</span>()\n",
       "</pre>\n"
      ],
      "text/plain": [
       "14:00:25.984 | \u001b[36mINFO\u001b[0m    | Flow run\u001b[35m 'great-auk'\u001b[0m - Finished in state \u001b[32mCompleted\u001b[0m()\n"
      ]
     },
     "metadata": {},
     "output_type": "display_data"
    },
    {
     "data": {
      "text/plain": [
       "(42,\n",
       " GitHubRepository(repository_url='https://github.com/DavieBake/dbt_bq.git', reference=None, credentials=None))"
      ]
     },
     "execution_count": 6,
     "metadata": {},
     "output_type": "execute_result"
    }
   ],
   "source": [
    "from prefect import task, flow\n",
    "from prefect_github.repository import GitHubRepository\n",
    "\n",
    "\n",
    "\n",
    "@flow()\n",
    "def my_flow():\n",
    "    github_repository_block = GitHubRepository.load(\"dbt-bq-repo\")\n",
    "    print(\"What is your favorite number?\")\n",
    "    return 42, github_repository_block\n",
    "\n",
    "my_flow()"
   ]
  },
  {
   "cell_type": "code",
   "execution_count": 8,
   "metadata": {},
   "outputs": [
    {
     "data": {
      "text/plain": [
       "'c:\\\\Users\\\\davie\\\\Documents\\\\dbt_bq\\\\Prefect'"
      ]
     },
     "execution_count": 8,
     "metadata": {},
     "output_type": "execute_result"
    }
   ],
   "source": [
    "import os\n",
    "\n",
    "os.getcwd()"
   ]
  },
  {
   "cell_type": "code",
   "execution_count": null,
   "metadata": {},
   "outputs": [],
   "source": []
  }
 ],
 "metadata": {
  "kernelspec": {
   "display_name": "Python 3",
   "language": "python",
   "name": "python3"
  },
  "language_info": {
   "codemirror_mode": {
    "name": "ipython",
    "version": 3
   },
   "file_extension": ".py",
   "mimetype": "text/x-python",
   "name": "python",
   "nbconvert_exporter": "python",
   "pygments_lexer": "ipython3",
   "version": "3.9.7 (default, Sep 16 2021, 16:59:28) [MSC v.1916 64 bit (AMD64)]"
  },
  "orig_nbformat": 4,
  "vscode": {
   "interpreter": {
    "hash": "b7b27afd991f4955fa9bf2991eee2dee768e734195578b62922ab8b887b16969"
   }
  }
 },
 "nbformat": 4,
 "nbformat_minor": 2
}
